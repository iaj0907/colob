{
  "nbformat": 4,
  "nbformat_minor": 0,
  "metadata": {
    "colab": {
      "name": "temp.ipynb",
      "provenance": [],
      "authorship_tag": "ABX9TyOaQThNR4UshmO9fWr7EgZ6",
      "include_colab_link": true
    },
    "kernelspec": {
      "name": "python3",
      "display_name": "Python 3"
    }
  },
  "cells": [
    {
      "cell_type": "markdown",
      "metadata": {
        "id": "view-in-github",
        "colab_type": "text"
      },
      "source": [
        "<a href=\"https://colab.research.google.com/github/iaj0907/colob/blob/master/temp.ipynb\" target=\"_parent\"><img src=\"https://colab.research.google.com/assets/colab-badge.svg\" alt=\"Open In Colab\"/></a>"
      ]
    },
    {
      "cell_type": "code",
      "metadata": {
        "id": "a8qLA3x2vjeP",
        "colab_type": "code",
        "colab": {}
      },
      "source": [
        "import requests\n",
        "from bs4 import BeautifulSoup\n",
        "import re\n",
        "\n",
        "urlName = \"\\\n",
        "https://r.nikkei.com/search?keyword=from%3A2016%2F06%2F01++publication%3Anews++to%3A2016%2F12%2F01+sort%3Ascore+%E6%9D%B1%E8%8A%9D%E3%80%80%E5%88%A9%E7%9B%8A&volume=191\\\n",
        "\"\n",
        "url = requests.get(urlName)\n",
        "soup = BeautifulSoup(url.content, \"html.parser\")\n",
        "\n",
        "elems = soup.find_all(\"h3\")\n",
        "url_list1=[]\n",
        "\n",
        "#h ref抽出\n",
        "i=0\n",
        "for elem in elems:\n",
        "    if i==0:\n",
        "        i=i+1\n",
        "        continue\n",
        "    r = elem.find_previous('a') \n",
        "    url_list1.append(r.get('href'))\n",
        "    i=i+1\n",
        "\n",
        "#print(url_list1)\n",
        "# print(url_list1[0])\n",
        "text_news = \"\"\n",
        "count=0\n",
        "\n",
        "ng_list=[\"記事保存\",\"有料会員の方のみご利用になれます。保存した記事はスマホやタブレットでもご覧いただけます。\",\"＞ 新規会員登録\",\\\n",
        "    \"＞ ログイン\",\"Evernote保存\",\"ご利用には会員登録が必要です\",\"＞ 新規会員登録\",\"電子版は最初の1カ月が無料！今すぐ無料体験\",\"アカウント一覧日経チャンネルマーケッツでは、マーケット・経済専門チャンネル日経CNBCの番組をライブ配信。\"]\n",
        "re_ng_list=[\"詳しくはこちら\"]\n",
        "end_point=\"無料・有料プランを選択\"\n",
        "\n",
        "#\n",
        "for u in (url_list1):\n",
        "   r = requests.get(u)\n",
        "   soup = BeautifulSoup(r.content, \"html.parser\")\n",
        "   elems=soup.select(\"p\")\n",
        "   print(u) #+ str(\"についてのurl##################################\"))\n",
        "\n",
        "   for elem in elems:\n",
        "       #ノイズ除去\n",
        "       reg_obj = re.compile(r\"<[^>]*?>\")\n",
        "       tag_str = str(elem)\n",
        "       result=reg_obj.sub(\"\", tag_str)\n",
        "       if result in ng_list:\n",
        "           continue\n",
        "       elif re_ng_list[0] in result:\n",
        "           continue\n",
        "       if result == end_point:\n",
        "           break\n",
        "       count = count + 1\n",
        "       text_news = text_news + result\n",
        "       text_news = text_news #+ str(\"#########\")\n",
        "\n",
        "   #print(\"aa\")\n",
        "\n",
        "#print(count) \n",
        "\n",
        "#    text_news=str(elems[0])\n",
        "\n",
        "#    for string in soup.find_all(\"div\", attrs={\"id\": \"kashi_area\"})[0].strings:\n",
        "#        text_news += string\n",
        "\n",
        "with open('text_news.txt', mode = 'w', encoding = 'utf-8') as fw:\n",
        "   fw.write(text_news)\n",
        "\n",
        "\n",
        "\n"
      ],
      "execution_count": null,
      "outputs": []
    }
  ]
}