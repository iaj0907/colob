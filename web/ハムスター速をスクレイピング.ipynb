{
  "nbformat": 4,
  "nbformat_minor": 0,
  "metadata": {
    "colab": {
      "name": "ハムスター速をスクレイピング.ipynb",
      "provenance": []
    },
    "kernelspec": {
      "name": "python3",
      "display_name": "Python 3"
    }
  },
  "cells": [
    {
      "cell_type": "markdown",
      "metadata": {
        "id": "iTVnrNDekX-h",
        "colab_type": "text"
      },
      "source": [
        "# ハム速をスクレイピング\n",
        "2chまとめサイト「ハムスター速報」のタイトルとURLをスクレイピングします。\n",
        "\n",
        "スクレイピングした結果はテキストファイルに保存しGoogle DriveにUploadされます。"
      ]
    },
    {
      "cell_type": "code",
      "metadata": {
        "id": "Wsy3XmDrU9jR",
        "colab_type": "code",
        "colab": {}
      },
      "source": [
        "import requests\n",
        "\n",
        "from bs4 import BeautifulSoup"
      ],
      "execution_count": null,
      "outputs": []
    },
    {
      "cell_type": "markdown",
      "metadata": {
        "id": "hl8iwY62k8TE",
        "colab_type": "text"
      },
      "source": [
        "## BeautifulSoupを使ってHTMLを取得"
      ]
    },
    {
      "cell_type": "code",
      "metadata": {
        "id": "hePVWQ7ye4fE",
        "colab_type": "code",
        "colab": {}
      },
      "source": [
        "page_url = \"http://hamusoku.com/\"\n",
        "r = requests.get(page_url)\n",
        "\n",
        "soup = BeautifulSoup(r.text, features=\"html.parser\")"
      ],
      "execution_count": null,
      "outputs": []
    },
    {
      "cell_type": "markdown",
      "metadata": {
        "id": "Hpi_Vw1BlDeD",
        "colab_type": "text"
      },
      "source": [
        "## 記事タイトルを含むh1タグを取得\n",
        "ChromeのDeveloper Toolsを使ってハムスター速報のHTMLを詳しく自分の目で見ます。\n",
        "\n",
        "\n",
        " よってBeautifulSoupを使って記事タイトルに使われているh1タグを取得します。\n"
      ]
    },
    {
      "cell_type": "code",
      "metadata": {
        "id": "S1BC6tPQV_8e",
        "colab_type": "code",
        "colab": {}
      },
      "source": [
        "h1_tags = soup.find_all(\"h1\", class_=\"article-title\")"
      ],
      "execution_count": null,
      "outputs": []
    },
    {
      "cell_type": "markdown",
      "metadata": {
        "id": "HKMQ0KPVlzke",
        "colab_type": "text"
      },
      "source": [
        "取得した結果はリストで返されます。\n",
        "\n"
      ]
    },
    {
      "cell_type": "code",
      "metadata": {
        "id": "Aqch2DzvffH-",
        "colab_type": "code",
        "colab": {
          "base_uri": "https://localhost:8080/",
          "height": 126
        },
        "outputId": "f02d13fa-b7bc-4434-fa99-810fdf222699"
      },
      "source": [
        "h1_tags[0]"
      ],
      "execution_count": null,
      "outputs": [
        {
          "output_type": "execute_result",
          "data": {
            "text/plain": [
              "<h1 class=\"article-title entry-title\"><a href=\"http://hamusoku.com/archives/10131838.html\" rel=\"bookmark\" title=\"個別記事ページへ\">リラックスしすぎてほぼ毛玉になった猫がこちらｗｗｗｗｗｗｗ</a>\n",
              "<a class=\"twitter-share-button\" data-count=\"horizontal\" data-lang=\"en\" data-text=\"ハムスター速報：リラックスしすぎてほぼ毛玉になった猫がこちらｗｗｗｗｗｗｗ\" data-url=\"http://hamusoku.com/archives/10131838.html\" data-via=\"hamusoku\" href=\"http://twitter.com/share\">Tweet</a>\n",
              "<script><!--\n",
              "  tweetCountDisplay(\"http://hamusoku.com/archives/10131838.html\");\n",
              "--></script>\n",
              "</h1>"
            ]
          },
          "metadata": {
            "tags": []
          },
          "execution_count": 4
        }
      ]
    },
    {
      "cell_type": "markdown",
      "metadata": {
        "id": "afDoomwWmtdl",
        "colab_type": "text"
      },
      "source": [
        "h1タグの中のaタグを取得します"
      ]
    },
    {
      "cell_type": "code",
      "metadata": {
        "id": "ofAgSLkkYf0B",
        "colab_type": "code",
        "colab": {
          "base_uri": "https://localhost:8080/",
          "height": 73
        },
        "outputId": "0d40fb8e-06b3-448f-9f1f-92d7f13928cc"
      },
      "source": [
        "tmp_h1_tag = h1_tags[0]\n",
        "\n",
        "tmp_h1_tag.find_all(\"a\")"
      ],
      "execution_count": null,
      "outputs": [
        {
          "output_type": "execute_result",
          "data": {
            "text/plain": [
              "[<a href=\"http://hamusoku.com/archives/10131838.html\" rel=\"bookmark\" title=\"個別記事ページへ\">リラックスしすぎてほぼ毛玉になった猫がこちらｗｗｗｗｗｗｗ</a>,\n",
              " <a class=\"twitter-share-button\" data-count=\"horizontal\" data-lang=\"en\" data-text=\"ハムスター速報：リラックスしすぎてほぼ毛玉になった猫がこちらｗｗｗｗｗｗｗ\" data-url=\"http://hamusoku.com/archives/10131838.html\" data-via=\"hamusoku\" href=\"http://twitter.com/share\">Tweet</a>]"
            ]
          },
          "metadata": {
            "tags": []
          },
          "execution_count": 5
        }
      ]
    },
    {
      "cell_type": "markdown",
      "metadata": {
        "id": "Or6dh-lRm85_",
        "colab_type": "text"
      },
      "source": [
        "結果を見ると、記事タイトルとは関係のないTweetボタンの情報も含まれていました。記事タイトルの部分だけを取得します"
      ]
    },
    {
      "cell_type": "code",
      "metadata": {
        "id": "zhFFknoygGNU",
        "colab_type": "code",
        "colab": {
          "base_uri": "https://localhost:8080/",
          "height": 35
        },
        "outputId": "ad3eb581-e7ee-4635-b2b7-2738e718bd44"
      },
      "source": [
        "tmp_h1_tag.find_all(\"a\")[0]"
      ],
      "execution_count": null,
      "outputs": [
        {
          "output_type": "execute_result",
          "data": {
            "text/plain": [
              "<a href=\"http://hamusoku.com/archives/10131838.html\" rel=\"bookmark\" title=\"個別記事ページへ\">リラックスしすぎてほぼ毛玉になった猫がこちらｗｗｗｗｗｗｗ</a>"
            ]
          },
          "metadata": {
            "tags": []
          },
          "execution_count": 6
        }
      ]
    },
    {
      "cell_type": "code",
      "metadata": {
        "id": "z_D4l7BHhOKO",
        "colab_type": "code",
        "colab": {
          "base_uri": "https://localhost:8080/",
          "height": 35
        },
        "outputId": "5a4aea18-963a-4285-e385-d27f337a28cf"
      },
      "source": [
        "tmp_h1_tag.find_all(\"a\", attrs={\"rel\": \"bookmark\"})"
      ],
      "execution_count": null,
      "outputs": [
        {
          "output_type": "execute_result",
          "data": {
            "text/plain": [
              "[<a href=\"http://hamusoku.com/archives/10131838.html\" rel=\"bookmark\" title=\"個別記事ページへ\">リラックスしすぎてほぼ毛玉になった猫がこちらｗｗｗｗｗｗｗ</a>]"
            ]
          },
          "metadata": {
            "tags": []
          },
          "execution_count": 7
        }
      ]
    },
    {
      "cell_type": "code",
      "metadata": {
        "id": "H_ZPk_BdhUWz",
        "colab_type": "code",
        "colab": {}
      },
      "source": [
        "article_a_tag = tmp_h1_tag.find_all(\"a\")[0]"
      ],
      "execution_count": null,
      "outputs": []
    },
    {
      "cell_type": "markdown",
      "metadata": {
        "id": "_NuX_PJ5nFjC",
        "colab_type": "text"
      },
      "source": [
        "## 記事タイトルを取得"
      ]
    },
    {
      "cell_type": "code",
      "metadata": {
        "id": "YKL2ykpJhgAG",
        "colab_type": "code",
        "colab": {
          "base_uri": "https://localhost:8080/",
          "height": 35
        },
        "outputId": "bde22709-bbf0-4413-e3c6-bddefdecad87"
      },
      "source": [
        "article_a_tag.text"
      ],
      "execution_count": null,
      "outputs": [
        {
          "output_type": "execute_result",
          "data": {
            "text/plain": [
              "'リラックスしすぎてほぼ毛玉になった猫がこちらｗｗｗｗｗｗｗ'"
            ]
          },
          "metadata": {
            "tags": []
          },
          "execution_count": 9
        }
      ]
    },
    {
      "cell_type": "markdown",
      "metadata": {
        "id": "a0cUTyOtnKRx",
        "colab_type": "text"
      },
      "source": [
        "## 記事URLを取得"
      ]
    },
    {
      "cell_type": "code",
      "metadata": {
        "id": "C6fz3oJzhjsj",
        "colab_type": "code",
        "colab": {
          "base_uri": "https://localhost:8080/",
          "height": 35
        },
        "outputId": "7c3d6564-9768-4353-fffe-e42de629848b"
      },
      "source": [
        "article_a_tag.get(\"href\")"
      ],
      "execution_count": null,
      "outputs": [
        {
          "output_type": "execute_result",
          "data": {
            "text/plain": [
              "'http://hamusoku.com/archives/10131838.html'"
            ]
          },
          "metadata": {
            "tags": []
          },
          "execution_count": 10
        }
      ]
    },
    {
      "cell_type": "markdown",
      "metadata": {
        "id": "I5Xb1T2znPtL",
        "colab_type": "text"
      },
      "source": [
        "## 取得した情報をリストに保存"
      ]
    },
    {
      "cell_type": "code",
      "metadata": {
        "id": "F4kxVTlEhmLc",
        "colab_type": "code",
        "colab": {
          "base_uri": "https://localhost:8080/",
          "height": 198
        },
        "outputId": "7c7081e0-7eab-4404-a7c7-3b123ae9f661"
      },
      "source": [
        "data = []\n",
        "for h1_tag in h1_tags:\n",
        "  tmp_article_a_tag = h1_tag.find_all(\"a\")[0]\n",
        "  title = tmp_article_a_tag.text\n",
        "  url = tmp_article_a_tag.get(\"href\")\n",
        "  print(\"title:{} url:{}\".format(title, url))\n",
        "\n",
        "  data.append([title, url])"
      ],
      "execution_count": null,
      "outputs": [
        {
          "output_type": "stream",
          "text": [
            "title:リラックスしすぎてほぼ毛玉になった猫がこちらｗｗｗｗｗｗｗ url:http://hamusoku.com/archives/10131838.html\n",
            "title:【悲報】ワイのiPhoneのバッテリー死ぬ url:http://hamusoku.com/archives/10131638.html\n",
            "title:【ラグビーＷ杯】福岡選手「我々は鍛え上げた日本刀」と準々決勝南アフリカ戦への意気込みを語る url:http://hamusoku.com/archives/10131787.html\n",
            "title:マリービスケットの空き箱、世界観をいかしたおうちになるｗｗｗｗｗｗｗ url:http://hamusoku.com/archives/10131757.html\n",
            "title:ワイ、お肉に胡椒をたっぷりかけて気分は大航海時代の貴族 url:http://hamusoku.com/archives/10131667.html\n",
            "title:【東須磨小】神戸市教委「給食カレーやめてその具材で煮物を作る！！！」　ｗｗｗｗｗｗｗｗｗｗ url:http://hamusoku.com/archives/10131650.html\n",
            "title:明治時代の山笠、高さ盛りすぎでほとんど狂気レベルだった模様ｗｗｗｗｗｗｗｗｗ url:http://hamusoku.com/archives/10131609.html\n",
            "title:森ゆうこ議員、自衛隊の閲兵で一人だけバカでかい傘をさすｗｗｗｗｗｗｗｗｗ url:http://hamusoku.com/archives/10131572.html\n",
            "title:政府、五輪期間中の交通量を減らすため宅配大手に対し時間指定配達中止などを要請する方針…利用者にも再配達の自粛を呼びかける模様 url:http://hamusoku.com/archives/10131531.html\n",
            "title:【深夜】あぁまた向かいのアパートで洗濯機がフル稼働してる url:http://hamusoku.com/archives/10131372.html\n"
          ],
          "name": "stdout"
        }
      ]
    },
    {
      "cell_type": "markdown",
      "metadata": {
        "id": "DUHBmM66nT81",
        "colab_type": "text"
      },
      "source": [
        "## Google Driveに書き込むための設定\n",
        "\n",
        "1.   実行後、URLと入力フォームが表示されます。\n",
        "2.   URL先に遷移して認証を許可すると確認コードが発行されます。\n",
        "3.   確認コードをコピーして入力フォームに入力してください。"
      ]
    },
    {
      "cell_type": "code",
      "metadata": {
        "id": "Zi3dW6vWiRPv",
        "colab_type": "code",
        "colab": {}
      },
      "source": [
        "!pip install -U -q PyDrive\n",
        "\n",
        "from pydrive.auth import GoogleAuth\n",
        "from pydrive.drive import GoogleDrive\n",
        "from google.colab import auth\n",
        "from oauth2client.client import GoogleCredentials\n",
        "\n",
        "auth.authenticate_user()\n",
        "gauth = GoogleAuth()\n",
        "gauth.credentials = GoogleCredentials.get_application_default()\n",
        "drive = GoogleDrive(gauth)"
      ],
      "execution_count": null,
      "outputs": []
    },
    {
      "cell_type": "markdown",
      "metadata": {
        "id": "zEJ0YSIknXpd",
        "colab_type": "text"
      },
      "source": [
        "## 取得した情報をテキストファイルに保存\n",
        "リストの中身を書き込みます。"
      ]
    },
    {
      "cell_type": "code",
      "metadata": {
        "id": "JnY-QbLAjO-W",
        "colab_type": "code",
        "colab": {}
      },
      "source": [
        "with open(\"hamusoku.txt\", \"w\") as f:\n",
        "  for d in data:\n",
        "    f.write(\"{},{}\\n\".format(d[0], d[1]))"
      ],
      "execution_count": null,
      "outputs": []
    },
    {
      "cell_type": "markdown",
      "metadata": {
        "id": "9Ib0ivpEnjFx",
        "colab_type": "text"
      },
      "source": [
        "## Google Driveにアップロード"
      ]
    },
    {
      "cell_type": "code",
      "metadata": {
        "id": "sExLyhLFjhEY",
        "colab_type": "code",
        "colab": {}
      },
      "source": [
        "upload_file_2 = drive.CreateFile()\n",
        "upload_file_2.SetContentFile(\"hamusoku.txt\")\n",
        "upload_file_2.Upload()"
      ],
      "execution_count": null,
      "outputs": []
    },
    {
      "cell_type": "code",
      "metadata": {
        "id": "HyhnGncujz79",
        "colab_type": "code",
        "colab": {}
      },
      "source": [
        ""
      ],
      "execution_count": null,
      "outputs": []
    }
  ]
}